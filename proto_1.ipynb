{
 "cells": [
  {
   "cell_type": "code",
   "execution_count": 1,
   "metadata": {},
   "outputs": [],
   "source": [
    "from pathlib import Path\n",
    "import os\n",
    "import re\n",
    "import import_file as imp_file\n",
    "import data_clean\n",
    "import pandas as pd"
   ]
  },
  {
   "cell_type": "code",
   "execution_count": null,
   "metadata": {},
   "outputs": [],
   "source": [
    "\"\"\"\n",
    "    1. Obtener reporte de los codigos de envio automatico, obtener el grupo\n",
    "\"\"\"\n"
   ]
  },
  {
   "cell_type": "code",
   "execution_count": 2,
   "metadata": {},
   "outputs": [],
   "source": [
    "df = imp_file.build_dataframe()\n",
    "df = data_clean.clean_downtime(df)\n",
    "df = data_clean.group_to_string(df)"
   ]
  },
  {
   "cell_type": "code",
   "execution_count": 3,
   "metadata": {},
   "outputs": [
    {
     "name": "stdout",
     "output_type": "stream",
     "text": [
      "En Espera\n",
      "Pérdida de Velocidad\n",
      "Microparo\n",
      "Auto\n",
      "Configuración y Ajuste\n",
      "Bloqueado\n",
      "Planeado\n",
      "Falla de Equipo\n",
      "Cambio de Modelo\n",
      "Configuracion y Ajuste\n",
      "Actividades AM\n",
      "Actividades PM\n",
      "Falla de Herramental\n",
      "Pérdida Administrativa\n",
      "Falta de Material\n",
      "Cambio de Herramental\n",
      "QA Material\n",
      "Falta de Personal\n",
      "Falla de Equipos Externos\n",
      "Cambio de Modelo No Planeado\n",
      "Groups\n",
      "Arranque y Paro\n",
      "Pérdida de velocidad\n",
      "Pérdida por velocidad\n",
      "Cambio de modelo\n",
      "En espera\n",
      "Falta de Calidad\n",
      "Falta de material\n",
      "Cambio modelo\n",
      "Paros de Seguridad\n",
      "Falla en Herramental\n",
      "Arranque y Apagado\n",
      "Fallas de Herramental\n",
      "Falta de Herramientas\n",
      "Calidad de Proveedor\n",
      "Cambio de modelo no planeado\n",
      "Pérdida administrativa\n",
      "Perdida de velocidad\n",
      "Desempeño\n"
     ]
    }
   ],
   "source": [
    "# Valores unicos en columna grupo\n",
    "for grupo in df[\"Group\"].unique():\n",
    "    print(grupo)"
   ]
  },
  {
   "cell_type": "code",
   "execution_count": 4,
   "metadata": {},
   "outputs": [
    {
     "data": {
      "text/html": [
       "<div>\n",
       "<style scoped>\n",
       "    .dataframe tbody tr th:only-of-type {\n",
       "        vertical-align: middle;\n",
       "    }\n",
       "\n",
       "    .dataframe tbody tr th {\n",
       "        vertical-align: top;\n",
       "    }\n",
       "\n",
       "    .dataframe thead th {\n",
       "        text-align: right;\n",
       "    }\n",
       "</style>\n",
       "<table border=\"1\" class=\"dataframe\">\n",
       "  <thead>\n",
       "    <tr style=\"text-align: right;\">\n",
       "      <th></th>\n",
       "      <th>Date</th>\n",
       "      <th>Start</th>\n",
       "      <th>End</th>\n",
       "      <th>Machine</th>\n",
       "      <th>Workstation</th>\n",
       "      <th>Part Number</th>\n",
       "      <th>Group</th>\n",
       "      <th>Class</th>\n",
       "      <th>Code</th>\n",
       "      <th>Comments</th>\n",
       "      <th>Downtime</th>\n",
       "    </tr>\n",
       "  </thead>\n",
       "  <tbody>\n",
       "    <tr>\n",
       "      <th>1</th>\n",
       "      <td>Apr 1, 2024</td>\n",
       "      <td>20:59:49</td>\n",
       "      <td>20:59:51</td>\n",
       "      <td>TGL4 Rigo 3</td>\n",
       "      <td>7 Transfer de Descarga R3</td>\n",
       "      <td>Piranha 21 XL TGL4 R3</td>\n",
       "      <td>Pérdida de Velocidad</td>\n",
       "      <td>Proceso</td>\n",
       "      <td>Exceso de Tiempo de Ciclo</td>\n",
       "      <td>NaN</td>\n",
       "      <td>0.033333</td>\n",
       "    </tr>\n",
       "    <tr>\n",
       "      <th>4</th>\n",
       "      <td>Apr 1, 2024</td>\n",
       "      <td>20:59:23</td>\n",
       "      <td>21:00:23</td>\n",
       "      <td>EPL3 Cannon D</td>\n",
       "      <td>8 Porta molde CD</td>\n",
       "      <td>Orizaba 18 EPL3 CD</td>\n",
       "      <td>Pérdida de Velocidad</td>\n",
       "      <td>Proceso</td>\n",
       "      <td>Exceso de Tiempo de Ciclo</td>\n",
       "      <td>NaN</td>\n",
       "      <td>1.000000</td>\n",
       "    </tr>\n",
       "    <tr>\n",
       "      <th>5</th>\n",
       "      <td>Apr 1, 2024</td>\n",
       "      <td>20:59:09</td>\n",
       "      <td>20:59:12</td>\n",
       "      <td>PGL4 RWC</td>\n",
       "      <td>28 Mesa de Descarga PGXL</td>\n",
       "      <td>Piranha 21 XL PGL4 RWC</td>\n",
       "      <td>Pérdida de Velocidad</td>\n",
       "      <td>Proceso</td>\n",
       "      <td>Exceso de Tiempo de Ciclo</td>\n",
       "      <td>NaN</td>\n",
       "      <td>0.050000</td>\n",
       "    </tr>\n",
       "    <tr>\n",
       "      <th>6</th>\n",
       "      <td>Apr 1, 2024</td>\n",
       "      <td>20:59:00</td>\n",
       "      <td>20:59:02</td>\n",
       "      <td>TGL4 Rigo 4</td>\n",
       "      <td>7 Transfer de Descarga R4</td>\n",
       "      <td>Piranha 21 XL TGL4 R4</td>\n",
       "      <td>Pérdida de Velocidad</td>\n",
       "      <td>Proceso</td>\n",
       "      <td>Exceso de Tiempo de Ciclo</td>\n",
       "      <td>NaN</td>\n",
       "      <td>0.033333</td>\n",
       "    </tr>\n",
       "    <tr>\n",
       "      <th>7</th>\n",
       "      <td>Apr 1, 2024</td>\n",
       "      <td>20:58:42</td>\n",
       "      <td>20:58:44</td>\n",
       "      <td>PGL4 RWC</td>\n",
       "      <td>28 Mesa de Descarga PGXL</td>\n",
       "      <td>Piranha 21 XL PGL4 RWC</td>\n",
       "      <td>Pérdida de Velocidad</td>\n",
       "      <td>Proceso</td>\n",
       "      <td>Exceso de Tiempo de Ciclo</td>\n",
       "      <td>NaN</td>\n",
       "      <td>0.033333</td>\n",
       "    </tr>\n",
       "  </tbody>\n",
       "</table>\n",
       "</div>"
      ],
      "text/plain": [
       "          Date     Start       End        Machine                Workstation  \\\n",
       "1  Apr 1, 2024  20:59:49  20:59:51    TGL4 Rigo 3  7 Transfer de Descarga R3   \n",
       "4  Apr 1, 2024  20:59:23  21:00:23  EPL3 Cannon D           8 Porta molde CD   \n",
       "5  Apr 1, 2024  20:59:09  20:59:12       PGL4 RWC   28 Mesa de Descarga PGXL   \n",
       "6  Apr 1, 2024  20:59:00  20:59:02    TGL4 Rigo 4  7 Transfer de Descarga R4   \n",
       "7  Apr 1, 2024  20:58:42  20:58:44       PGL4 RWC   28 Mesa de Descarga PGXL   \n",
       "\n",
       "              Part Number                 Group    Class  \\\n",
       "1   Piranha 21 XL TGL4 R3  Pérdida de Velocidad  Proceso   \n",
       "4      Orizaba 18 EPL3 CD  Pérdida de Velocidad  Proceso   \n",
       "5  Piranha 21 XL PGL4 RWC  Pérdida de Velocidad  Proceso   \n",
       "6   Piranha 21 XL TGL4 R4  Pérdida de Velocidad  Proceso   \n",
       "7  Piranha 21 XL PGL4 RWC  Pérdida de Velocidad  Proceso   \n",
       "\n",
       "                        Code Comments  Downtime  \n",
       "1  Exceso de Tiempo de Ciclo      NaN  0.033333  \n",
       "4  Exceso de Tiempo de Ciclo      NaN  1.000000  \n",
       "5  Exceso de Tiempo de Ciclo      NaN  0.050000  \n",
       "6  Exceso de Tiempo de Ciclo      NaN  0.033333  \n",
       "7  Exceso de Tiempo de Ciclo      NaN  0.033333  "
      ]
     },
     "execution_count": 4,
     "metadata": {},
     "output_type": "execute_result"
    }
   ],
   "source": [
    "df[df[\"Code\"] == \"Exceso de Tiempo de Ciclo\"].head()"
   ]
  },
  {
   "cell_type": "code",
   "execution_count": 17,
   "metadata": {},
   "outputs": [
    {
     "name": "stdout",
     "output_type": "stream",
     "text": [
      "['Pérdida de Velocidad', 'Pérdida de velocidad', 'Pérdida por velocidad', 'Perdida de velocidad']\n"
     ]
    }
   ],
   "source": [
    "# findall perdida de velocidad\n",
    "\n",
    "# regex pattern -> perdida de velocidad\n",
    "lista_de_grupos = [group for group in df[\"Group\"].unique()]\n",
    "pattern = r\"[Vv][eé]locidad\"\n",
    "pattern2 = r\"[Vv][eé]locidad\"\n",
    "results = []\n",
    "for grupo in df[\"Group\"].unique():\n",
    "    result_aux = re.findall(pattern,grupo)\n",
    "    if result_aux:\n",
    "        results.append(grupo)\n",
    "\n",
    "print(results)"
   ]
  },
  {
   "cell_type": "code",
   "execution_count": 22,
   "metadata": {},
   "outputs": [
    {
     "name": "stdout",
     "output_type": "stream",
     "text": [
      "['Bloqueado']\n"
     ]
    }
   ],
   "source": [
    "lista_de_grupos = [group for group in df[\"Group\"].unique()]\n",
    "pattern = r\"[Bb]loqueado\"\n",
    "results = []\n",
    "for grupo in df[\"Group\"].unique():\n",
    "    result_aux = re.findall(pattern,grupo)\n",
    "    if result_aux:\n",
    "        results.append(grupo)\n",
    "\n",
    "print(results)"
   ]
  },
  {
   "cell_type": "code",
   "execution_count": 23,
   "metadata": {},
   "outputs": [
    {
     "name": "stdout",
     "output_type": "stream",
     "text": [
      "['Groups']\n"
     ]
    }
   ],
   "source": [
    "lista_de_grupos = [group for group in df[\"Group\"].unique()]\n",
    "pattern = r\"[Gg]roups\"\n",
    "results = []\n",
    "for grupo in df[\"Group\"].unique():\n",
    "    result_aux = re.findall(pattern,grupo)\n",
    "    if result_aux:\n",
    "        results.append(grupo)\n",
    "\n",
    "print(results)"
   ]
  },
  {
   "cell_type": "code",
   "execution_count": 21,
   "metadata": {},
   "outputs": [
    {
     "name": "stdout",
     "output_type": "stream",
     "text": [
      "28 Mesa de Descarga PGXL\n",
      "30 General PGXL\n"
     ]
    }
   ],
   "source": [
    "for equipo in df[df[\"Group\"] == results[2]][\"Workstation\"].unique():\n",
    "    print(equipo)"
   ]
  },
  {
   "cell_type": "code",
   "execution_count": 24,
   "metadata": {},
   "outputs": [
    {
     "name": "stdout",
     "output_type": "stream",
     "text": [
      "4 Conveyor de salida\n",
      "8 Porta molde CD\n",
      "8 Cama Sal Fix2 Esp3\n",
      "8 Brazos Aper Est CA\n",
      "8 Cama Sal Fix5 Esp3\n",
      "8 Cama Sal Fix3 Esp3\n",
      "8 Cama Sal Fix1 Esp3\n",
      "8 Cama Sal Fix6 Esp3\n",
      "8 Cama Sal Fix4 Esp3\n",
      "5 Guillotina LCA\n",
      "8 Cama Sal Fix7 Esp3\n",
      "8 Cama Sal Fix8 Esp3\n",
      "7 Transfer de Descarga R1\n",
      "7 Transfer de Descarga R4\n",
      "18 Perforaciones CND\n",
      "7 Transfer de Descarga R3\n",
      "7 Transfer de Descarga R7\n",
      "7 Guillotina LCS\n",
      "7 Guillotina C2\n",
      "3 Perforaciones PPP Cosma\n"
     ]
    }
   ],
   "source": [
    "for equipo in df[df[\"Group\"] == \"Groups\"][\"Workstation\"].unique():\n",
    "    print(equipo)"
   ]
  }
 ],
 "metadata": {
  "kernelspec": {
   "display_name": "Python 3",
   "language": "python",
   "name": "python3"
  },
  "language_info": {
   "codemirror_mode": {
    "name": "ipython",
    "version": 3
   },
   "file_extension": ".py",
   "mimetype": "text/x-python",
   "name": "python",
   "nbconvert_exporter": "python",
   "pygments_lexer": "ipython3",
   "version": "3.11.4"
  }
 },
 "nbformat": 4,
 "nbformat_minor": 2
}
